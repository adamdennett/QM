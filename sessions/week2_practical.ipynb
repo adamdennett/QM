{
  "cells": [
    {
      "cell_type": "markdown",
      "metadata": {},
      "source": [
        "# Practical 2: Recognising and plotting probability distributions\n",
        "\n",
        "Exploring student attainment in schools\n",
        "\n",
        "This week is focussed on using some common functions in Python to plot\n",
        "data and distributions.\n",
        "\n",
        "# Learning Outcomes\n",
        "\n",
        "-   Familiarise yourself with opening datasets and formatting them in\n",
        "    Python.\n",
        "-   Practise plotting histograms of data in Python.\n",
        "-   Explore different data distributions.\n",
        "\n",
        "# Starting the Practical\n",
        "\n",
        "As per last week: download the notebook to your `QM` folder, switch over\n",
        "to `JupyterLab` (which will be running in Podman/Docker) and get to\n",
        "work.\n",
        "\n",
        "*Optionally* if you want to save the completed notebook to your Github\n",
        "repo, you can `add`, `commit`, and `push` the notebook in Git after you\n",
        "download it. When you’re done for the day, save your changes to the file\n",
        "(This is very important!), then `add`, `commit`, and `push` your work to\n",
        "save the completed notebook.\n",
        "\n",
        "# Loading the data\n",
        "\n",
        "We are going to look at schools performance data in England.\n",
        "\n",
        "The data is sourced from gov.uk\n",
        "[here](https://www.compare-school-performance.service.gov.uk/download-data) -\n",
        "HOWEVER I have also saved a copy of the relevant dataset to the Github\n",
        "repo (in case the dataset is removed from the website) which you can\n",
        "load directly in the code below. In this notebook we’re using the\n",
        "performance table for academic year 2022/23:\n",
        "‘Performancetables_130242/2022-2023’.\n",
        "\n",
        "If you do want to download the data directly from the gov.uk website\n",
        "then you need to choose the academic year ‘2022 to 2023’, then ‘All of\n",
        "England’, then ‘Key stage 4 results (final)’. Then you’ll want to\n",
        "download the ‘Data in CSV format’ and also ‘Explanation of terminology\n",
        "used in the data files’."
      ],
      "id": "c225d929-d51c-4b77-8104-138869c504c3"
    },
    {
      "cell_type": "code",
      "execution_count": 1,
      "metadata": {},
      "outputs": [
        {
          "output_type": "stream",
          "name": "stderr",
          "text": [
            "C:\\Users\\Adam\\AppData\\Local\\Temp\\ipykernel_16920\\1412533053.py:7: DtypeWarning: Columns (75,77,78,79,80,81,82,83,84,85,86,87,88,89,90,91,92,93,94,144,145,146,147,148,149,150,151,152,177,178,179,180,181,182,183,186,187,188,189,190,191,192,194,195,196,198,199,200,202,203,204,206,207,208,210,211,212,214,215,216,218,219,220,222,223,224,230,233,234,235,236,237,238,239,242,243,244,245,246,247,248,251,252,253,254,255,256,257,266,267,268,269,270,271,272,281,282,283,284,285,286,287,296,297,298,299,300,301,302,311,312,313,314,315,316,317,335,336,337,340,341,342,345,346,347,366,367,368,369,370,371,372,373,374,375,376,377,378,379,380,381,382,383,384,385,386,387,388,389,390,391,392,393,394,395,396,397,398,399,400,401,402,403,404,405,406,407,408,409,410) have mixed types. Specify dtype option on import or set low_memory=False.\n",
            "  df_ks4 = pd.read_csv('https://raw.githubusercontent.com/huanfachen/QM/refs/heads/main/sessions/L2_data/england_ks4final.csv',"
          ]
        },
        {
          "output_type": "display_data",
          "metadata": {},
          "data": {
            "text/html": [
              "\n",
              "</div>"
            ]
          }
        }
      ],
      "source": [
        "import pandas as pd\n",
        "import matplotlib.pyplot as plt\n",
        "import numpy as np \n",
        "\n",
        "# Read CSV file, handling common missing value entries\n",
        "na_vals = [\"\", \"NA\", \"SUPP\", \"NP\", \"NE\", \"SP\", \"SN\", \"SUPPMAT\"]\n",
        "df_ks4 = pd.read_csv('https://raw.githubusercontent.com/huanfachen/QM/refs/heads/main/sessions/L2_data/england_ks4final.csv',\n",
        "    na_values = na_vals\n",
        ")\n",
        "\n",
        "info_cols = ['RECTYPE', 'LEA', 'SCHNAME', 'TOTPUPS']\n",
        "ebaccs_cols = ['EBACCAPS', 'EBACCAPS_LO', 'EBACCAPS_MID', 'EBACCAPS_HI']\n",
        "\n",
        "df = df_ks4[info_cols + ebaccs_cols]\n",
        "\n",
        "# work on a copy of the dataframe to avoid SettingWithCopyWarning\n",
        "df = df.copy()\n",
        "\n",
        "df.head()"
      ],
      "id": "dcc7abc2"
    },
    {
      "cell_type": "markdown",
      "metadata": {},
      "source": [
        "You might be wondering why I’ve chosen the columns `info_cols` and\n",
        "`ebaccs_cols`. In open source datasets the column headers might be\n",
        "obscure, or difficult to decipher - but typically metadata will be\n",
        "provided that explains the meaning.\n",
        "\n",
        "Looking at the metadata (which you can see in ‘L2_data/ks4_meta.xlsx’)\n",
        "we can see the full meaning of each column header:\n",
        "\n",
        "| Variable name | Meaning |\n",
        "|------------|------------------------------------------------------------|\n",
        "| RECTYPE | Record type (1=mainstream school; 2=special school; 4=local authority; 5=National (all schools); 7=National (maintained schools)) |\n",
        "| LEA | Local authority |\n",
        "| SCHNAME | School name |\n",
        "| TOTPUPS | Number of pupils on roll (all ages) |\n",
        "| EBACCAPS | Average EBacc APS score per pupil |\n",
        "| EBACCAPS_LO | Average EBacc APS score per pupil with low prior attainment |\n",
        "| EBACCAPS_MID | Average EBacc APS score per pupil with middle prior attainment |\n",
        "| EBACCAPS_HI | Average EBacc APS score per pupil with high prior attainment |"
      ],
      "id": "15f42b2d-d61e-4e34-a41c-376e4ad83ad1"
    },
    {
      "cell_type": "raw",
      "metadata": {
        "raw_mimetype": "text/html"
      },
      "source": [
        "<!-- - 'RECTYPE' = Record type (1=mainstream school; 2=special school; 4=local authority; 5=National (all schools); 7=National (maintained schools))\n",
        "- 'LEA' = Local authority \n",
        "- 'SCHNAME' = School name \n",
        "- 'TOTPUPS' = Number of pupils on roll (all ages)\n",
        "- 'EBACCAPS' = Average EBacc APS score per pupil\n",
        "- 'EBACCAPS_LO' = Average EBacc APS score per pupil with low prior attainment\n",
        "- 'EBACCAPS_MID' = Average EBacc APS score per pupil with middle prior attainment\n",
        "- 'EBACCAPS_HI' = Average EBacc APS score per pupil with high prior attainment -->"
      ],
      "id": "8374bd35-3f13-4249-bc3f-69d16b7218f1"
    },
    {
      "cell_type": "markdown",
      "metadata": {},
      "source": [
        "EBacc stands for English Baccalaureate. It is a measure of students\n",
        "school grades calculated as an average score across a set number of\n",
        "subjects. It is used by the government as a performance indicator of\n",
        "English schools. You can read more about it\n",
        "[here](https://en.wikipedia.org/wiki/English_Baccalaureate#:~:text=Added%20together%2C%20this%20gives%20a,for%20girls%202018%20was%204.33.).\n",
        "\n",
        "The EBacc has a minimum score of 0, which indicates very poor\n",
        "performance, and a maximum score of 9, which indicates very high\n",
        "performance.\n",
        "\n",
        "# Describing the dataframe\n",
        "\n",
        "The `pandas` library has lots of useful built in functions for analysing\n",
        "dataframes. Let’s start by seeing how much data we have."
      ],
      "id": "cb878d97-098b-4e71-85db-f87359b53e80"
    },
    {
      "cell_type": "code",
      "execution_count": 2,
      "metadata": {},
      "outputs": [
        {
          "output_type": "stream",
          "name": "stdout",
          "text": [
            "Rows: 5813, Columns: 8"
          ]
        }
      ],
      "source": [
        "rows, cols = df.shape\n",
        "print(f\"Rows: {rows}, Columns: {cols}\")"
      ],
      "id": "16a3ce4d"
    },
    {
      "cell_type": "markdown",
      "metadata": {},
      "source": [
        "The function `.shape` returns the number of rows and columns.\n",
        "\n",
        "## Checking the data type\n",
        "\n",
        "Let’s check the data type of each of the columns - based on the metadata\n",
        "I am expecting:\n",
        "\n",
        "| Variable name | Meaning | dtype |\n",
        "|-----------|------------------------------------------------------|-------|\n",
        "| RECTYPE | Record type (1=mainstream school; 2=special school; 4=local authority; 5=National (all schools); 7=National (maintained schools)) | int |\n",
        "| LEA | Local authority | int |\n",
        "| SCHNAME | School name | string |\n",
        "| TOTPUPS | Number of pupils on roll (all ages) | int |\n",
        "| EBACCAPS | Average EBacc APS score per pupil | float |\n",
        "| EBACCAPS_LO | Average EBacc APS score per pupil with low prior attainment | float |\n",
        "| EBACCAPS_MID | Average EBacc APS score per pupil with middle prior attainment | float |\n",
        "| EBACCAPS_HI | Average EBacc APS score per pupil with high prior attainment | float |"
      ],
      "id": "ac47b382-e8ae-4cb9-bd15-10eecf2526dd"
    },
    {
      "cell_type": "code",
      "execution_count": 3,
      "metadata": {},
      "outputs": [
        {
          "output_type": "display_data",
          "metadata": {},
          "data": {
            "text/plain": [
              "RECTYPE           int64\n",
              "LEA             float64\n",
              "SCHNAME          object\n",
              "TOTPUPS          object\n",
              "EBACCAPS        float64\n",
              "EBACCAPS_LO     float64\n",
              "EBACCAPS_MID    float64\n",
              "EBACCAPS_HI     float64\n",
              "dtype: object"
            ]
          }
        }
      ],
      "source": [
        "df.dtypes"
      ],
      "id": "99a39198"
    },
    {
      "cell_type": "markdown",
      "metadata": {},
      "source": [
        "OK, so we can see that not all the data types are quite as expected.\n",
        "Let’s reformat them to make it easier later."
      ],
      "id": "371d77b6-85d6-4286-9f49-cf9b41e6885a"
    },
    {
      "cell_type": "code",
      "execution_count": 4,
      "metadata": {},
      "outputs": [],
      "source": [
        "df.loc[:, ebaccs_cols] = df.loc[:, ebaccs_cols].apply(pd.to_numeric, errors='coerce')\n",
        "df['TOTPUPS'] = pd.to_numeric(df['TOTPUPS'], errors='coerce').fillna(0).astype('int64')"
      ],
      "id": "6e41410a"
    },
    {
      "cell_type": "markdown",
      "metadata": {},
      "source": [
        "And we can check again:"
      ],
      "id": "ea51c613-c1b8-4227-b22e-7b621a6da49f"
    },
    {
      "cell_type": "code",
      "execution_count": 5,
      "metadata": {},
      "outputs": [
        {
          "output_type": "display_data",
          "metadata": {},
          "data": {
            "text/plain": [
              "RECTYPE           int64\n",
              "LEA             float64\n",
              "SCHNAME          object\n",
              "TOTPUPS           int64\n",
              "EBACCAPS        float64\n",
              "EBACCAPS_LO     float64\n",
              "EBACCAPS_MID    float64\n",
              "EBACCAPS_HI     float64\n",
              "dtype: object"
            ]
          }
        }
      ],
      "source": [
        "df.dtypes"
      ],
      "id": "5891b30d"
    },
    {
      "cell_type": "markdown",
      "metadata": {},
      "source": [
        "## Check how much data is missing\n",
        "\n",
        "Let’s check how much data is missing for each column in the dataframe -\n",
        "this will help us understand the completeness of the data."
      ],
      "id": "f39084ac-102b-4c97-9f7b-85f254c999ef"
    },
    {
      "cell_type": "code",
      "execution_count": 6,
      "metadata": {},
      "outputs": [
        {
          "output_type": "display_data",
          "metadata": {},
          "data": {
            "text/plain": [
              "RECTYPE          0.000000\n",
              "LEA              0.034406\n",
              "SCHNAME          2.683640\n",
              "TOTPUPS          0.000000\n",
              "EBACCAPS        17.684500\n",
              "EBACCAPS_LO     38.775159\n",
              "EBACCAPS_MID    41.149148\n",
              "EBACCAPS_HI     42.490969\n",
              "dtype: float64"
            ]
          }
        }
      ],
      "source": [
        "# print how much data is missing for each column\n",
        "df.isna().mean() * 100 "
      ],
      "id": "283a43d2"
    },
    {
      "cell_type": "markdown",
      "metadata": {},
      "source": [
        "It seems suspicious that the school names are missing for some of the\n",
        "entries - let’s check these."
      ],
      "id": "6e7607d8-138f-4c59-89c0-0072e6b1141f"
    },
    {
      "cell_type": "code",
      "execution_count": 7,
      "metadata": {},
      "outputs": [
        {
          "output_type": "display_data",
          "metadata": {},
          "data": {
            "text/html": [
              "\n",
              "<p>156 rows × 8 columns</p>\n",
              "</div>"
            ]
          }
        }
      ],
      "source": [
        "# return rows where SCHNAME is missing\n",
        "df[df['SCHNAME'].isna()]"
      ],
      "id": "10a49a69"
    },
    {
      "cell_type": "markdown",
      "metadata": {},
      "source": [
        "So, these are all record type 4, 5, or 7. Looking back at the metadata I\n",
        "see that record types 4, 5 and 7 refer to aggregated data - i.e. they’re\n",
        "not individual schools! Let’s limit the selection to only individual\n",
        "schools, that is 1-mainstream schools and 2-special schools."
      ],
      "id": "6cf7ba8d-6ace-49a5-a2be-afb16dbd0877"
    },
    {
      "cell_type": "code",
      "execution_count": 8,
      "metadata": {},
      "outputs": [],
      "source": [
        "# only keep rows where RECTYPE is 1 or 2 \n",
        "df = df[df['RECTYPE'].isin([1, 2])].copy()"
      ],
      "id": "a65df4e6"
    },
    {
      "cell_type": "markdown",
      "metadata": {},
      "source": [
        "Now we can check the data dimensions again."
      ],
      "id": "f8d5b305-d248-49d2-b118-1e93fe5ecb30"
    },
    {
      "cell_type": "code",
      "execution_count": 9,
      "metadata": {},
      "outputs": [
        {
          "output_type": "stream",
          "name": "stdout",
          "text": [
            "Rows: 5657, Columns: 8"
          ]
        }
      ],
      "source": [
        "rows, cols = df.shape\n",
        "print(f\"Rows: {rows}, Columns: {cols}\")"
      ],
      "id": "dfe52c25"
    },
    {
      "cell_type": "markdown",
      "metadata": {},
      "source": [
        "### Summary statistics\n",
        "\n",
        "We can use the `describe` function in pandas to easily get the summary\n",
        "statistics for a dataframe."
      ],
      "id": "77818ff3-48a2-4bea-b38b-157aa39ec623"
    },
    {
      "cell_type": "code",
      "execution_count": 10,
      "metadata": {},
      "outputs": [
        {
          "output_type": "display_data",
          "metadata": {},
          "data": {
            "text/html": [
              "\n",
              "</div>"
            ]
          }
        }
      ],
      "source": [
        "numerical_cols = ['TOTPUPS', 'EBACCAPS', 'EBACCAPS_LO', 'EBACCAPS_MID', 'EBACCAPS_HI']\n",
        "\n",
        "df[numerical_cols].describe()"
      ],
      "id": "7fcf7056"
    },
    {
      "cell_type": "markdown",
      "metadata": {},
      "source": [
        "## Histograms\n",
        "\n",
        "Let’s try plotting the Average EBacc APS score per pupil."
      ],
      "id": "9a01110e-449d-4640-8aa5-2d1704daf370"
    },
    {
      "cell_type": "code",
      "execution_count": 11,
      "metadata": {},
      "outputs": [
        {
          "output_type": "display_data",
          "metadata": {},
          "data": {
            "image/png": "[encoded data removed]"
          }
        }
      ],
      "source": [
        "n_bins = 10\n",
        "fig, ax = plt.subplots(figsize=(12, 8))\n",
        "\n",
        "ax.hist(df['EBACCAPS'].dropna(), bins=n_bins, color='#abc766', edgecolor='black')\n",
        "ax.set_title('EBacc distribution')\n",
        "ax.set_xlabel('EBacc score')\n",
        "ax.set_ylabel('Number of schools')  \n",
        "ax.set_xlim(0,9) # the EBacc has a maximum score of 9\n",
        "\n",
        "plt.show()"
      ],
      "id": "495efbaf"
    },
    {
      "cell_type": "markdown",
      "metadata": {},
      "source": [
        "What do you observe from this boxplot? Because the bins are quite large\n",
        "it’s difficult to get a sense of the distribution - try changing this to\n",
        "get a better idea of the data spread.\n",
        "\n",
        "#### Question"
      ],
      "id": "a0ae154c-1b79-467b-acce-bd8ec2824dae"
    },
    {
      "cell_type": "code",
      "execution_count": null,
      "metadata": {},
      "outputs": [],
      "source": [
        "n_bins = ??\n",
        "fig, ax = plt.subplots(figsize=(12, 8))\n",
        "\n",
        "ax.hist(df['EBACCAPS'].dropna(), bins=n_bins, color='#abc766', edgecolor='black')\n",
        "ax.set_title('EBacc distribution')\n",
        "ax.set_xlabel('EBacc score')\n",
        "ax.set_ylabel('Number of schools')  \n",
        "ax.set_xlim(0,9) # the EBacc has a maximum score of 9\n",
        "\n",
        "plt.show()"
      ],
      "id": "d9961f75-004d-4b84-9330-f5090c3c8da4"
    },
    {
      "cell_type": "markdown",
      "metadata": {},
      "source": [
        "### Is it normally distributed?\n",
        "\n",
        "Looking at the histogram does the data look normally distributed?\n",
        "\n",
        "Remember the key features of the normal distribution:\n",
        "\n",
        "-   Data is continuous\n",
        "    -   it is something you measure not something you count\n",
        "-   Data is equally likely to be larger or smaller than average\n",
        "    -   symmetric\n",
        "-   Characteristic size, all data points are close to the mean\n",
        "    -   single peak\n",
        "-   There is less data further away from the mean\n",
        "    -   smooth tails on both sides\n",
        "\n",
        "One way to consider whether it is normally distributed is to overlay the\n",
        "normal distribution on top.\n",
        "\n",
        "We can use the package `scipy.stats` which has functions for generating\n",
        "probability density functions for common distributions. You can see\n",
        "which common distributions\n",
        "[here](https://docs.scipy.org/doc/scipy/reference/stats.html)."
      ],
      "id": "8327c634-ea4c-4194-aa82-1aa7ac7d4c2a"
    },
    {
      "cell_type": "code",
      "execution_count": 13,
      "metadata": {},
      "outputs": [
        {
          "output_type": "display_data",
          "metadata": {},
          "data": {
            "image/png": "[encoded data removed]"
          }
        }
      ],
      "source": [
        "import scipy.stats as sps\n",
        "\n",
        "# first let's get the mean and stand deviation \n",
        "mu = df['EBACCAPS'].dropna().mean()\n",
        "std = df['EBACCAPS'].dropna().std()\n",
        "\n",
        "## Create the plot \n",
        "\n",
        "# plot the histogram\n",
        "plt.figure(figsize=(12, 8))\n",
        "plt.hist(df['EBACCAPS'], bins=40, density=True, color='#abc766', edgecolor='black')\n",
        "\n",
        "# plot the Probability Density Function (PDF)\n",
        "xmin = 0 \n",
        "xmax = 9\n",
        "x = np.linspace(xmin, xmax, 100)\n",
        "p = sps.norm.pdf(x, mu, std)\n",
        "plt.plot(x, p, linewidth=2, color=\"#e16fca\")\n",
        "\n",
        "plt.title(f\"Fit results: $\\\\mu$ = {mu:.2f},  $\\\\sigma$ = {std:.2f}\")\n",
        "plt.xlim(0, 9)\n",
        "plt.xlabel(\"EBacc score\")\n",
        "plt.ylabel(\"Density\")\n",
        "\n",
        "plt.show()"
      ],
      "id": "221cf979"
    },
    {
      "cell_type": "markdown",
      "metadata": {},
      "source": [
        "Note that this time we plot the histogram with `density=True` - this\n",
        "scales the histogram data.\n",
        "\n",
        "Another way to think about whether something is normally distirbuted is\n",
        "to look at the Q-Q plot.\n",
        "\n",
        "### Q-Q plot\n",
        "\n",
        "A Q-Q plot is used to see if a dataset follows a certain distribution,\n",
        "by comparing the quartiles of the two. You can read a bit more about Q-Q\n",
        "plots [here](https://www.datacamp.com/tutorial/qq-plot).\n",
        "\n",
        "Q-Q plots are a good way to check if a dataset follows a normal\n",
        "distribution.\n",
        "\n",
        "#### Question\n",
        "\n",
        "Thinking about the characteristics of a normal distribution, what would\n",
        "you expect the Q-Q plot of a normally distributed dataset to look like?\n",
        "\n",
        "The results of the Q-Q plot can help us to understand the dataset:\n",
        "\n",
        "-   For perfectly normal data: *points fall almost exactly on the\n",
        "    diagonal line*\n",
        "-   Heavy tails (more extreme values than normal): *points curve away at\n",
        "    the end*\n",
        "-   Light tails (fewer extreme values than normal): *points bend inward\n",
        "    at the ends*\n",
        "-   Skewed data: *points systematically deviate above or below the line*\n",
        "\n",
        "We can plot the Q-Q plot in Python. Note that before we Q-Q plot the\n",
        "sample data we will need to normalise it - this accounts for the fact\n",
        "that our data is not centred around 0."
      ],
      "id": "e6afa7fb-2c39-4f26-b347-c84fa8af3dc4"
    },
    {
      "cell_type": "code",
      "execution_count": 14,
      "metadata": {},
      "outputs": [
        {
          "output_type": "display_data",
          "metadata": {},
          "data": {
            "image/png": "[encoded data removed]"
          }
        }
      ],
      "source": [
        "# Drop missing values\n",
        "data = df['EBACCAPS'].dropna().values\n",
        "n = len(data)\n",
        "\n",
        "# normalise the data\n",
        "data = (data - np.mean(data)) / np.std(data)\n",
        "\n",
        "# Sort the sample data\n",
        "sample_quantiles = np.sort(data)\n",
        "\n",
        "# Compute plotting positions (probabilities)\n",
        "p = (np.arange(1, n+1) - 0.5) / n\n",
        "\n",
        "# Compute theoretical quantiles from standard normal\n",
        "theoretical_quantiles = sps.norm.ppf(p)\n",
        "\n",
        "# Plot\n",
        "plt.scatter(theoretical_quantiles, sample_quantiles, alpha=0.5, color='#abc766')\n",
        "plt.plot(theoretical_quantiles, theoretical_quantiles, color='black', linestyle='--')  # reference line\n",
        "plt.title(\"Q-Q plot for EBacc scores\")\n",
        "plt.xlabel(\"Theoretical quantiles (Normal)\")\n",
        "plt.ylabel(\"Sample quantiles\")\n",
        "\n",
        "plt.show()"
      ],
      "id": "c9cad15f"
    },
    {
      "cell_type": "markdown",
      "metadata": {},
      "source": [
        "Ok, so in case it wasn’t clear from the previous plot we can see that\n",
        "the data definitely isn’t perfectly normal.\n",
        "\n",
        "## What’s causing the skew?\n",
        "\n",
        "If you remember above this dataset includes schools of two different\n",
        "types, we have mainstream schools and special schools. ‘special schools’\n",
        "refers to schools which cater to students with special educational\n",
        "needs. Let’s see what happens when we split our histogram according to\n",
        "the type of school."
      ],
      "id": "58d66c43-8cb6-486e-8ade-550da85c81d0"
    },
    {
      "cell_type": "code",
      "execution_count": 15,
      "metadata": {},
      "outputs": [
        {
          "output_type": "display_data",
          "metadata": {},
          "data": {
            "image/png": "[encoded data removed]"
          }
        }
      ],
      "source": [
        "# histogram of # plot histogram of EBACCAPS by RECTYPE\n",
        "n_bins = {1:40, 2:20}\n",
        "fig, ax = plt.subplots(figsize=(12, 8))\n",
        "for rectype, color, label in zip([1, 2], ['#abc766', '#66c2ab'], ['Mainstream', 'Special']):\n",
        "    ax.hist(df_ks4.loc[df_ks4['RECTYPE'] == rectype, 'EBACCAPS'].dropna(), bins=n_bins[rectype], alpha=0.7, color=color, edgecolor='black', label=label)\n",
        "ax.set_title('EBacc distribution by school type')\n",
        "ax.set_xlabel('EBacc score')\n",
        "ax.set_ylabel('Number of schools')  \n",
        "ax.set_xlim(0,9)\n",
        "ax.legend()\n",
        "\n",
        "plt.show()"
      ],
      "id": "830285a1"
    },
    {
      "cell_type": "markdown",
      "metadata": {},
      "source": [
        "Note that I’ve played with the number of total bins for each group so\n",
        "that the histograms look nice.\n",
        "\n",
        "Looking now at the histogram it becomes clear that the skewness of the\n",
        "data is caused by the different school types.\n",
        "\n",
        "## Another check for normality\n",
        "\n",
        "Let’s try again to see if the data is normal - this time splitting the\n",
        "dataset according to the school type.\n",
        "\n",
        "We can start by splitting the dataset according to the school type.\n",
        "\n",
        "#### Question"
      ],
      "id": "ec34ef75-6c69-4e0e-8dd9-e3d89ab2e42c"
    },
    {
      "cell_type": "code",
      "execution_count": null,
      "metadata": {},
      "outputs": [],
      "source": [
        "# mainstream school\n",
        "df1 = df[??]\n",
        "\n",
        "# special schools \n",
        "df2 = df[??]"
      ],
      "id": "97bc3620-1aaf-41fc-a831-90c958673d2a"
    },
    {
      "cell_type": "markdown",
      "metadata": {},
      "source": [
        "### Q-Q plot for mainstream schools\n",
        "\n",
        "#### Question"
      ],
      "id": "f4b1213e-0a25-49ba-a6d6-5298d2b10a73"
    },
    {
      "cell_type": "code",
      "execution_count": null,
      "metadata": {},
      "outputs": [],
      "source": [
        "# Drop missing values\n",
        "data = df1['EBACCAPS'].dropna().values\n",
        "n = len(data)\n",
        "\n",
        "# normalise the data\n",
        "data = (data - np.mean(data)) / np.std(data)\n",
        "\n",
        "# Sort the sample data\n",
        "sample_quantiles = ??\n",
        "\n",
        "# Compute plotting positions (probabilities)\n",
        "p = ??\n",
        "\n",
        "# Compute theoretical quantiles from standard normal\n",
        "theoretical_quantiles = ??\n",
        "\n",
        "# Plot\n",
        "plt.scatter(theoretical_quantiles, sample_quantiles, alpha=0.5, color='#abc766')\n",
        "plt.plot(theoretical_quantiles, theoretical_quantiles, color='black', linestyle='--')  # reference line\n",
        "plt.title(\"Mainstream schools: Q-Q plot for EBacc scores\")\n",
        "plt.xlabel(\"Theoretical quantiles (Normal)\")\n",
        "plt.ylabel(\"Sample quantiles\")\n",
        "\n",
        "plt.show()"
      ],
      "id": "1658a131-f01c-4c12-9799-fa58bb2a5aba"
    },
    {
      "cell_type": "markdown",
      "metadata": {},
      "source": [
        "## Q-Q plot for special schools\n",
        "\n",
        "#### Question"
      ],
      "id": "66b55ee7-c6a4-4107-8058-8892e635cfa7"
    },
    {
      "cell_type": "code",
      "execution_count": null,
      "metadata": {},
      "outputs": [],
      "source": [
        "# Drop missing values\n",
        "data = df2['EBACCAPS'].dropna().values\n",
        "n = len(data)\n",
        "\n",
        "# normalise the data\n",
        "data = (data - np.mean(data)) / np.std(data)\n",
        "\n",
        "# Sort the sample data\n",
        "sample_quantiles = ??\n",
        "\n",
        "# Compute plotting positions (probabilities)\n",
        "p = ??\n",
        "\n",
        "# Compute theoretical quantiles from standard normal\n",
        "theoretical_quantiles = ??\n",
        "\n",
        "# Plot\n",
        "plt.scatter(theoretical_quantiles, sample_quantiles, alpha=0.5, color='#abc766')\n",
        "plt.plot(theoretical_quantiles, theoretical_quantiles, color='black', linestyle='--')  # reference line\n",
        "plt.title(\"Special schools: Q-Q plot for EBacc scores\")\n",
        "plt.xlabel(\"Theoretical quantiles (Normal)\")\n",
        "plt.ylabel(\"Sample quantiles\")\n",
        "\n",
        "plt.show()"
      ],
      "id": "76d50d76-d49d-4ea9-9950-03534154b2d0"
    },
    {
      "cell_type": "markdown",
      "metadata": {},
      "source": [
        "Looking at the resultant Q-Q plots what can we say about the data? We\n",
        "see that the mainstream schools is a skewed dataset, whilst the special\n",
        "schools dataset has a heavy tail.\n",
        "\n",
        "## Extension\n",
        "\n",
        "### EBacc by prior attainment\n",
        "\n",
        "If you’ve finished looking at the histogram plots of the EBacc data, try\n",
        "plotting the histograms of the columns ‘EBACCAPS_LO’, ‘EBACCAPS_MID’,\n",
        "‘EBACCAPS_HI’. What can you say about these data distributions? Does\n",
        "plotting the Q-Q plots help?\n",
        "\n",
        "#### Question"
      ],
      "id": "f8e527a7-bd6c-4d96-af2b-56b4d72641fd"
    },
    {
      "cell_type": "code",
      "execution_count": null,
      "metadata": {},
      "outputs": [],
      "source": [
        "n_bins = ??\n",
        "fig, ax = plt.subplots(3, 1, figsize=(12, 18))\n",
        "plot_names = ['EBacc low prior', 'EBacc mid prior', 'EBacc high prior']\n",
        "\n",
        "for i, col in ??:\n",
        "    ax[i].hist(df[col].dropna(), bins=n_bins, color='#abc766', edgecolor='black')\n",
        "    ax[i].set_title(plot_names[i])\n",
        "    ax[i].set_xlabel('EBacc score')\n",
        "    ax[i].set_ylabel('Number of schools')  \n",
        "    ax[i].set_xlim(0,9) # the EBacc has a maximum score of 9\n",
        "    \n",
        "plt.show()"
      ],
      "id": "f5aa5beb-8031-4dc8-a499-b27dfec67a3e"
    },
    {
      "cell_type": "markdown",
      "metadata": {},
      "source": [
        "### EBacc by school size\n",
        "\n",
        "If you’ve finished everything else, then you might like to look at some\n",
        "of the other variables in the dataset. Try plotting the EBacc scores\n",
        "against the total number of pupils (‘TOTPUPS’) - for example using a\n",
        "scatter plot - what can you say about this distribution?\n",
        "\n",
        "## You’re Done!\n",
        "\n",
        "Congratulations on completing the second QM practical session! If you\n",
        "are still working on it, take your time.\n",
        "\n",
        "Don’t worry about understanding every detail of the Python code — what\n",
        "matters most is knowing which functions to use for a specific task, like\n",
        "plotting histograms of data, and knowing how to debug when it goes\n",
        "wrong. Remember, practice makes perfect."
      ],
      "id": "67aadd15-5fb3-46f8-9a90-c6eecdd9e86f"
    }
  ],
  "nbformat": 4,
  "nbformat_minor": 5,
  "metadata": {
    "kernelspec": {
      "name": "python3",
      "display_name": "Python 3 (ipykernel)",
      "language": "python",
      "path": "C:"
    },
    "language_info": {
      "name": "python",
      "codemirror_mode": {
        "name": "ipython",
        "version": "3"
      },
      "file_extension": ".py",
      "mimetype": "text/x-python",
      "nbconvert_exporter": "python",
      "pygments_lexer": "ipython3",
      "version": "3.13.7"
    }
  }
}