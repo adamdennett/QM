{
  "cells": [
    {
      "cell_type": "markdown",
      "metadata": {},
      "source": [
        "---\n",
        "title: 'Practical 2: Recognising and plotting probability distributions'\n",
        "subtitle: \"\"\n",
        "format:\n",
        "  html: default\n",
        "  ipynb: default\n",
        "filters:\n",
        "  - qna\n",
        "  - quarto\n",
        "---\n",
        "\n",
        "This week is focussed on using some common functions in Python to plot data and distributions. \n",
        "\n",
        "## To add a callout-note\n",
        "\n",
        ":::{.callout-note}\n",
        "\n",
        "Suggestions for a Better Learning Experience:\n",
        "\n",
        "-   XXX\n",
        ":::\n",
        "\n",
        "## To add Python code without running them ...\n",
        "``` python\n",
        "import pandas as pd\n",
        "\n",
        "# Read CSV file, skipping first 5 rows, using row 6 as header, and handling comma as thousands separator\n",
        "df_pop = pd.read_csv(\n",
        "    'L1_data/UK_census_population.csv',\n",
        "    skiprows=5,        # Skip first 5 rows. Wnhy?\n",
        "    thousands=',',     # Interpret commas as thousands separators\n",
        "    header=0           # After skipping, the first row becomes the header\n",
        ")\n",
        "\n",
        "print(df_pop.head())\n",
        "```\n",
        "\n",
        "## To add and run Python code"
      ],
      "id": "5def8c39"
    },
    {
      "cell_type": "code",
      "metadata": {},
      "source": [
        "import pandas as pd\n",
        "\n",
        "# Read CSV file, skipping first 5 rows, using row 6 as header, and handling comma as thousands separator\n",
        "df_pop = pd.read_csv(\n",
        "    'L1_data/UK_census_population.csv',\n",
        "    skiprows=5,        # Skip first 5 rows. Wnhy?\n",
        "    thousands=',',     # Interpret commas as thousands separators\n",
        "    header=0           # After skipping, the first row becomes the header\n",
        ")\n",
        "\n",
        "print(df_pop.head())"
      ],
      "id": "8359ce86",
      "execution_count": null,
      "outputs": []
    },
    {
      "cell_type": "markdown",
      "metadata": {},
      "source": [
        "## To add a photo - replace the path. Using relative path is also okay.\n",
        "\n",
        "![]({{< var module.web >}}/sessions/L1_images/uk_pop_csv_screenshot.jpg){width=\"600\"} \n",
        "\n",
        "<!-- ![](L1_images/uk_pop_csv_screenshot.jpg){width=600} -->\n",
        "\n",
        "## To add some \"questions\"\n",
        "\n",
        "The qmd file will be rendered as two files in sessions folder, including a html and ipynb format. The html file will contain both *question* and *answer*, while the ipynb file will contain only the *question*.\n",
        "\n",
        "For the effect, please check [HTML](https://huanfachen.github.io/QM/sessions/weekX_practical.html) and [ipynb](https://huanfachen.github.io/QM/sessions/weekX_practical.ipynb).\n",
        "\n",
        "::: qna\n",
        "#### Question\n",
        "\n",
        "```python\n",
        "if ??\n",
        "    ??\n",
        "else:\n",
        "    ??\n",
        "```\n",
        "\n",
        "#### Answer\n",
        "\n",
        "#### Answer"
      ],
      "id": "bdfb8725"
    },
    {
      "cell_type": "code",
      "metadata": {},
      "source": [
        "if 'Moscow' in ['Moscow', 'Beijing']:\n",
        "    print(\"Moscow is in the cities list.\")\n",
        "else:\n",
        "    print(\"Moscow is not in the cities list.\")"
      ],
      "id": "52e566f0",
      "execution_count": null,
      "outputs": []
    },
    {
      "cell_type": "markdown",
      "metadata": {},
      "source": [
        ":::\n",
        "\n",
        "## You're Done!\n",
        "\n",
        "Congratulations on completing the first QM practical session! If you are still working on it, take you time.\n",
        "\n",
        "Don’t worry about understanding every detail of the Python code — what matters most is knowing which functions to use for a specific task, like checking minimum and maximum values or generating boxplots, and knowing how to debug when it goes wrong. Remember, practice makes perfect.\n"
      ],
      "id": "bea73301"
    }
  ],
  "metadata": {
    "kernelspec": {
      "name": "python3",
      "language": "python",
      "display_name": "Python 3 (ipykernel)",
      "path": "C:\\Users\\Adam\\OneDrive - University College London\\Documents\\.virtualenvs\\r-reticulate\\share\\jupyter\\kernels\\python3"
    }
  },
  "nbformat": 4,
  "nbformat_minor": 5
}