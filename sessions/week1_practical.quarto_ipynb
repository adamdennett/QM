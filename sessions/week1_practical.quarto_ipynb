{
 "cells": [
  {
   "cell_type": "markdown",
   "id": "0ce64631",
   "metadata": {},
   "source": [
    "---\n",
    "title: 'Practical 1: describing and representing data'\n",
    "subtitle: \"Starting with the 'Basics'\"\n",
    "format:\n",
    "  html: default\n",
    "  ipynb: default\n",
    "filters:\n",
    "  - qna\n",
    "  - quarto\n",
    "---\n",
    "\n",
    "This week is focussed on ensuring that you're able to access the teaching materials and to run Jupyter notebooks locally, as well as describing a dataset in Python.\n",
    "\n",
    "## Learning Outcomes\n",
    "\n",
    "-   You have familiarised yourself with how to access the lecture notes and Python notebook of this module.\n",
    "-   You have familiarised yourself with running the Python notebooks locally.\n",
    "-   You have familiarised yourself with describing a dataset in Python.\n",
    "\n",
    "# Starting the Practical\n",
    "\n",
    "The process for every week will be the same: download the notebook to your `QM` folder, switch over to `JupyterLab` (which will be running in Podman/Docker) and get to work. If you want to save the completed notebook to your Github repo, you can `add`, `commit`, and `push` the notebook in Git after you download it. When you're done for the day, save your changes to the file (This is very important!), then `add`, `commit`, and `push` your work to save the completed notebook.\n",
    "\n",
    "::: callout-note\n",
    "Suggestions for a Better Learning Experience:\n",
    "\n",
    "-   **Set your operating system and software language to English**: this will make it easier to follow tutorials, search for solutions online, and understand error messages.\n",
    "\n",
    "-   **Save all files to a cloud storage service**: use platforms like Google Drive, OneDrive, Dropbox, or Git to ensure your work is backed up and can be restored easily when the laptop gets stolen or broken.\n",
    "\n",
    "-   **Avoid whitespace in file names and column names in datasets**\n",
    ":::\n",
    "\n",
    "## Set up the tools\n",
    "\n",
    "Please follow [the Setup page of CASA0013](https://jreades.github.io/fsds/setup/) to install and configure the computing platform, and [this page](https://jreades.github.io/fsds/sessions/week1.html) to get started on using the container & JupyterLab.\n",
    "\n",
    "## Download the Notebook\n",
    "\n",
    "So for this week, visit the [Week 1 of QM page](https://huanfachen.github.io/QM/sessions/week1.html#practical), you'll see that there is a 'preview' link and a a 'download' link. If you click the `preview` link you will be taken to the GitHub page for the notebook where it has been 'rendered' as a web page, which is not editable. To make the notebook useable on *your* computer, you need to `download` the IPYNB file.\n",
    "\n",
    "So now:\n",
    "\n",
    "1.  Click on the `Download` link.\n",
    "2.  The file should download automatically, but *if* you see a page of raw code, select `File` then `Save Page As...`.\n",
    "3.  Make sure you know where to find the file (e.g. Downloads or Desktop).\n",
    "4.  Move the file to your Git repository folder (e.g. `~/Documents/CASA/QM/`)\n",
    "5.  Check to see if your browser has added `.txt` to the file name:\n",
    "    -   If no, then you can move to adding the file.\n",
    "    -   If yes, then you can either fix the name in the Finder/Windows Explore, or you can do this in the Terminal using `mv <name_of_practical>.ipynb.txt <name_of_practical>.ipynb` (you can even do this in JupyterLab's terminal if it's already running).\n",
    "\n",
    "## Running notebooks on JupyterLab\n",
    "\n",
    "I am assuming that most of you are already running JupyterLab via Podman using the command.\n",
    "\n",
    "If you are a bit confused with *container*, *JupyterLab*, *terminal*, or *Git*, please feel free to ask any questions.\n",
    "\n",
    "## Loading data\n",
    "\n",
    "We are going to describe the population of local authorities in the UK.\n",
    "\n",
    "The data is sourced from [Office for National Statistics](https://www.ons.gov.uk/peoplepopulationandcommunity/populationandmigration/populationestimates/articles/howyourareahaschangedin10yearscensus2021/2022-11-08) and is donwloadable [here](https://www.ons.gov.uk/visualisations/censusareachanges/data/mapdatadownload.csv).\n",
    "\n",
    "We have saved a copy of this dataset to the Github repo, in case that the dataset is removed from the website."
   ]
  },
  {
   "cell_type": "code",
   "execution_count": 1,
   "id": "f57947e8",
   "metadata": {},
   "outputs": [
    {
     "name": "stdout",
     "output_type": "stream",
     "text": [
      "   Area code          Area name Area type  Population 2011  Population 2021  \\\n",
      "0  K04000001  England and Wales  National       56075912.0       59597542.0   \n",
      "1  E92000001            England   Country       53012456.0       56490048.0   \n",
      "2  W92000004              Wales   Country        3063456.0        3107494.0   \n",
      "3  E12000001         North East    Region        2596886.0        2647013.0   \n",
      "4  E12000002         North West    Region        7052177.0        7417397.0   \n",
      "\n",
      "   Percentage change  \n",
      "0                6.3  \n",
      "1                6.6  \n",
      "2                1.4  \n",
      "3                1.9  \n",
      "4                5.2  \n"
     ]
    }
   ],
   "source": [
    "import pandas as pd\n",
    "\n",
    "# Read CSV file, skipping first 5 rows, using row 6 as header, and handling comma as thousands separator\n",
    "df_pop = pd.read_csv(\n",
    "    'L1_data/UK_census_population.csv',\n",
    "    skiprows=5,        # Skip first 5 rows. Wnhy?\n",
    "    thousands=',',     # Interpret commas as thousands separators\n",
    "    header=0           # After skipping, the first row becomes the header\n",
    ")\n",
    "\n",
    "print(df_pop.head())"
   ]
  },
  {
   "cell_type": "markdown",
   "id": "b81b6ff3",
   "metadata": {},
   "source": [
    "You might wonder why skipping the first 5 rows and setting *thousands=','*. I knew about this after opening this csv file in a text editor and lots of trial-and-errors.\n",
    "\n",
    "<!-- ![](%7B%7B%3C%20var%20module.web%20%3E%7D%7D/sessions/L1_images/uk_pop_csv_screenshot.jpg){width=\"600\"} -->\n",
    "\n",
    "![](L1_images/uk_pop_csv_screenshot.jpg){width=\"600\"}\n",
    "\n",
    "Then, we check the first few rows of this dataset using *df_pop.head()*.\n",
    "\n",
    "## Describing the dataframe\n",
    "\n",
    "### Which columns are included?"
   ]
  },
  {
   "cell_type": "code",
   "execution_count": 2,
   "id": "fb61dc29",
   "metadata": {},
   "outputs": [
    {
     "data": {
      "text/plain": [
       "['Area code',\n",
       " 'Area name',\n",
       " 'Area type',\n",
       " 'Population 2011',\n",
       " 'Population 2021',\n",
       " 'Percentage change']"
      ]
     },
     "execution_count": 2,
     "metadata": {},
     "output_type": "execute_result"
    }
   ],
   "source": [
    "list(df_pop.columns)"
   ]
  },
  {
   "cell_type": "markdown",
   "id": "3023b7cd",
   "metadata": {},
   "source": [
    "It is a pain to deal with whitespaces in a column, so good practice is to replace the whitespaces (eg tabs, multiple spaces) within column names with *underscore*."
   ]
  },
  {
   "cell_type": "code",
   "execution_count": 3,
   "id": "a0e0f76f",
   "metadata": {},
   "outputs": [
    {
     "name": "stdout",
     "output_type": "stream",
     "text": [
      "['Area_code', 'Area_name', 'Area_type', 'Population_2011', 'Population_2021', 'Percentage_change']\n"
     ]
    }
   ],
   "source": [
    "df_pop.columns = df_pop.columns.str.replace(r'\\s+', '_', regex=True)\n",
    "print(list(df_pop.columns)) # check again"
   ]
  },
  {
   "cell_type": "markdown",
   "id": "d64a39e3",
   "metadata": {},
   "source": [
    "### How many rows & cols are included?"
   ]
  },
  {
   "cell_type": "code",
   "execution_count": 4,
   "id": "8697c536",
   "metadata": {},
   "outputs": [
    {
     "name": "stdout",
     "output_type": "stream",
     "text": [
      "Rows: 369, Columns: 6\n"
     ]
    }
   ],
   "source": [
    "rows, cols = df_pop.shape\n",
    "print(f\"Rows: {rows}, Columns: {cols}\")"
   ]
  },
  {
   "cell_type": "markdown",
   "id": "124000ce",
   "metadata": {},
   "source": [
    "### Geography matters\n",
    "\n",
    "This dataset contains multiple geographies of UK and different geographies are incomparable. We can check the *Area_type* column:"
   ]
  },
  {
   "cell_type": "code",
   "execution_count": 5,
   "id": "dbfaa861",
   "metadata": {},
   "outputs": [
    {
     "name": "stdout",
     "output_type": "stream",
     "text": [
      "Area_type\n",
      "Local Authority    355\n",
      "Region               9\n",
      "Country              2\n",
      "National             1\n",
      "Name: count, dtype: int64\n"
     ]
    }
   ],
   "source": [
    "print(df_pop.Area_type.value_counts())"
   ]
  },
  {
   "cell_type": "markdown",
   "id": "baffbba7",
   "metadata": {},
   "source": [
    "So there are 355 records of *Local Authority*， 9 records of *Region*, 2 of *Country*, and 1 of 'National'. For an introduction to these terms, see [this article on ONS](https://www.ons.gov.uk/methodology/geography/ukgeographies/administrativegeography/england).\n",
    "\n",
    "We will focus on the local authorities, so we apply a filter:"
   ]
  },
  {
   "cell_type": "code",
   "execution_count": 6,
   "id": "2cad6478",
   "metadata": {},
   "outputs": [],
   "source": [
    "df_pop_la = df_pop[df_pop['Area_type'] == 'Local Authority']"
   ]
  },
  {
   "cell_type": "markdown",
   "id": "09c80583",
   "metadata": {},
   "source": [
    "### Overview of the columns\n",
    "\n",
    "There are two pandas functions that give overview of a dataframe. - `info()`: shows column data types, non‑null counts, and memory usage. - `describe()`: shows summary statistics for numeric data (count, mean, std, min, quartiles, max) - `describe(include='all')`: for both numeric data and non‑numeric data (count, unique, top value, frequency)."
   ]
  },
  {
   "cell_type": "code",
   "execution_count": 7,
   "id": "2f1e3581",
   "metadata": {},
   "outputs": [
    {
     "name": "stdout",
     "output_type": "stream",
     "text": [
      "<class 'pandas.core.frame.DataFrame'>\n",
      "Index: 355 entries, 12 to 366\n",
      "Data columns (total 6 columns):\n",
      " #   Column             Non-Null Count  Dtype  \n",
      "---  ------             --------------  -----  \n",
      " 0   Area_code          355 non-null    object \n",
      " 1   Area_name          355 non-null    object \n",
      " 2   Area_type          355 non-null    object \n",
      " 3   Population_2011    355 non-null    float64\n",
      " 4   Population_2021    355 non-null    float64\n",
      " 5   Percentage_change  355 non-null    float64\n",
      "dtypes: float64(3), object(3)\n",
      "memory usage: 19.4+ KB\n",
      "None\n",
      "       Population_2011  Population_2021  Percentage_change\n",
      "count     3.550000e+02     3.550000e+02         355.000000\n",
      "mean      2.132867e+05     2.268876e+05           6.070423\n",
      "std       2.099628e+05     2.245442e+05           4.608338\n",
      "min       2.203000e+03     2.054000e+03          -9.600000\n",
      "25%       1.000530e+05     1.055705e+05           2.950000\n",
      "50%       1.382650e+05     1.477760e+05           5.800000\n",
      "75%       2.487865e+05     2.628895e+05           9.000000\n",
      "max       1.463740e+06     1.576069e+06          22.100000\n"
     ]
    }
   ],
   "source": [
    "print(df_pop_la.info())\n",
    "print(df_pop_la.describe())"
   ]
  },
  {
   "cell_type": "markdown",
   "id": "af74cf2e",
   "metadata": {},
   "source": [
    "## Describing census 2021 population\n",
    "\n",
    "Now, we focus on describing the local authority population from census 2021. The first question is, what data type is this variable - *nominal*, *ordinal*, *interval*, or *ratio*？\n",
    "\n",
    "::: callout-note\n",
    "The *data type* of a variable is different from *how it’s stored in a computer*. For example, the *Area_type* variable can be encoded for convenience as 0 (“national”), 1 (“country”), and 2 (“local authority”). Although these are stored as numbers, Area_type is not truly numeric data — it’s an *nominal* variable.\n",
    ":::\n",
    "\n",
    "Does it make sense to say 'the population of LA AAA is twice of LA BBB'? Yes. So, this variable is of *ratio* type.\n",
    "\n",
    "### max and min\n",
    "\n",
    "What is the maximum population size in census 2021?\n",
    "\n",
    "```{Python}\n",
    "print(\"Max population: \", df_pop_la['Population_2021'].max(skipna=True))\n",
    "```\n",
    "\n",
    "Which LAs have the maximum population size? *The code below is a bit complicated*."
   ]
  },
  {
   "cell_type": "code",
   "execution_count": 8,
   "id": "ba83a038",
   "metadata": {},
   "outputs": [
    {
     "name": "stdout",
     "output_type": "stream",
     "text": [
      "Kent have the maximum population of 1576069.0\n"
     ]
    }
   ],
   "source": [
    "print(\"{} have the maximum population of {}\".format(\n",
    "    \", \".join(df_pop_la.loc[df_pop_la['Population_2021'] == df_pop_la['Population_2021'].max(skipna=True), 'Area_name']), \n",
    "    df_pop_la['Population_2021'].max(skipna=True))\n",
    "    )"
   ]
  },
  {
   "cell_type": "markdown",
   "id": "617e2987",
   "metadata": {},
   "source": [
    "What it does:\n",
    "\n",
    "-   Finds the *max* population while ignoring NaNs. *It is always safe to use skipna=True, even though there is no NA values.*\n",
    "-   Selects all rows with that population.\n",
    "-   Joins their Area_name values into a comma-separated string.\n",
    "\n",
    "Two new Python functions here:\n",
    "\n",
    "-   *format()*: Inserts variables into a string by replacing {} placeholders in order with provided arguments.\n",
    "\n",
    "-   *join()*: Combines the elements of an iterable into one string using the given separator before .join().\n",
    "\n",
    "Which LAs have the minimum population?"
   ]
  },
  {
   "cell_type": "code",
   "execution_count": 9,
   "id": "9ddc7ea6",
   "metadata": {},
   "outputs": [
    {
     "name": "stdout",
     "output_type": "stream",
     "text": [
      "Isles of Scilly have the minimum population of 2054.0\n"
     ]
    }
   ],
   "source": [
    "print(\"{} have the minimum population of {}\".format(\n",
    "    \", \".join(df_pop_la.loc[df_pop_la['Population_2021'] == df_pop_la['Population_2021'].min(skipna=True), 'Area_name']), \n",
    "    df_pop_la['Population_2021'].min(skipna=True))\n",
    "    )"
   ]
  },
  {
   "cell_type": "markdown",
   "id": "fc4b036c",
   "metadata": {},
   "source": [
    "### Standard deviation\n",
    "\n",
    "The result from `df_pop_la.describe()` indicates that the standard deviation of Population_2021 is `2.245442e+05`.\n",
    "\n",
    "Another way to calculate this standard deviation and to reformat it is:"
   ]
  },
  {
   "cell_type": "code",
   "execution_count": 10,
   "id": "b3edc925",
   "metadata": {},
   "outputs": [
    {
     "name": "stdout",
     "output_type": "stream",
     "text": [
      "The standard deviation of Population_2021 is: 224544.20636612535\n",
      "Using scientific notation: 2.245e+05\n",
      "Using thousands separator notation: 224,544.21\n"
     ]
    }
   ],
   "source": [
    "std_dev = df_pop_la['Population_2021'].std()\n",
    "# plain notation\n",
    "print(\"The standard deviation of Population_2021 is: {}\".format(std_dev)) \n",
    "# scientific notation\n",
    "print(\"Using scientific notation: {:.3e}\".format(std_dev)) \n",
    "# thousands separator notation + 2 decimal places\n",
    "print(\"Using thousands separator notation: {:,.2f}\".format(std_dev))"
   ]
  },
  {
   "cell_type": "markdown",
   "id": "8db464a8",
   "metadata": {},
   "source": [
    "There are several ways to represent numbers, and which one you choose depends on the situation.\n",
    "\n",
    "Equally important is to ensure the numbers are meaningful, or to use proper **significant figures**. For example, reporting a population’s standard deviation with 10 decimal places does not make sense.\n",
    "\n",
    "### Null value and outliers?\n",
    "\n",
    "Are there Null values or outliers in this variable? From results of `info()`, there are no NA values.\n",
    "\n",
    "To detect outliers, we will implement the Tukey Fences method using pandas function, as pandas does not provide a built-in function for this method."
   ]
  },
  {
   "cell_type": "code",
   "execution_count": 11,
   "id": "f338d513",
   "metadata": {},
   "outputs": [
    {
     "name": "stdout",
     "output_type": "stream",
     "text": [
      "Lower bound: -130408.0\n",
      "Upper bound: 498868.0\n",
      "How many outliers? 33\n",
      "Outliers:\n",
      "      Area_code        Area_name        Area_type  Population_2011  \\\n",
      "56   E06000047    County Durham  Local Authority         513242.0   \n",
      "60   E06000052         Cornwall  Local Authority         532273.0   \n",
      "62   E06000054        Wiltshire  Local Authority         470981.0   \n",
      "68   E06000060  Buckinghamshire  Local Authority         505283.0   \n",
      "254  E08000003       Manchester  Local Authority         503127.0   \n",
      "270  E08000019        Sheffield  Local Authority         552698.0   \n",
      "275  E08000025       Birmingham  Local Authority        1073045.0   \n",
      "282  E08000032         Bradford  Local Authority         522452.0   \n",
      "285  E08000035            Leeds  Local Authority         751485.0   \n",
      "321  E10000003   Cambridgeshire  Local Authority         621210.0   \n",
      "322  E10000006          Cumbria  Local Authority         499858.0   \n",
      "323  E10000007       Derbyshire  Local Authority         769686.0   \n",
      "324  E10000008            Devon  Local Authority         746399.0   \n",
      "325  E10000011      East Sussex  Local Authority         526671.0   \n",
      "326  E10000012            Essex  Local Authority        1393587.0   \n",
      "327  E10000013  Gloucestershire  Local Authority         596984.0   \n",
      "328  E10000014        Hampshire  Local Authority        1317788.0   \n",
      "329  E10000015    Hertfordshire  Local Authority        1116062.0   \n",
      "330  E10000016             Kent  Local Authority        1463740.0   \n",
      "331  E10000017       Lancashire  Local Authority        1171339.0   \n",
      "332  E10000018   Leicestershire  Local Authority         650489.0   \n",
      "333  E10000019     Lincolnshire  Local Authority         713653.0   \n",
      "334  E10000020          Norfolk  Local Authority         857888.0   \n",
      "335  E10000023  North Yorkshire  Local Authority         598376.0   \n",
      "336  E10000024  Nottinghamshire  Local Authority         785802.0   \n",
      "337  E10000025      Oxfordshire  Local Authority         653798.0   \n",
      "338  E10000027         Somerset  Local Authority         529972.0   \n",
      "339  E10000028    Staffordshire  Local Authority         848489.0   \n",
      "340  E10000029          Suffolk  Local Authority         728163.0   \n",
      "341  E10000030           Surrey  Local Authority        1132390.0   \n",
      "342  E10000031     Warwickshire  Local Authority         545474.0   \n",
      "343  E10000032      West Sussex  Local Authority         806892.0   \n",
      "344  E10000034   Worcestershire  Local Authority         566169.0   \n",
      "\n",
      "     Population_2021  Percentage_change  \n",
      "56          522068.0                1.7  \n",
      "60          570305.0                7.1  \n",
      "62          510330.0                8.4  \n",
      "68          553078.0                9.5  \n",
      "254         551938.0                9.7  \n",
      "270         556521.0                0.7  \n",
      "275        1144919.0                6.7  \n",
      "282         546412.0                4.6  \n",
      "285         811953.0                8.0  \n",
      "321         678849.0                9.3  \n",
      "322         499846.0                0.0  \n",
      "323         794636.0                3.2  \n",
      "324         811640.0                8.7  \n",
      "325         545847.0                3.6  \n",
      "326        1503521.0                7.9  \n",
      "327         645076.0                8.1  \n",
      "328        1400899.0                6.3  \n",
      "329        1198798.0                7.4  \n",
      "330        1576069.0                7.7  \n",
      "331        1235354.0                5.5  \n",
      "332         712366.0                9.5  \n",
      "333         768364.0                7.7  \n",
      "334         916120.0                6.8  \n",
      "335         615491.0                2.9  \n",
      "336         824822.0                5.0  \n",
      "337         725291.0               10.9  \n",
      "338         571547.0                7.8  \n",
      "339         876104.0                3.3  \n",
      "340         760688.0                4.5  \n",
      "341        1203108.0                6.2  \n",
      "342         596773.0                9.4  \n",
      "343         882676.0                9.4  \n",
      "344         603676.0                6.6  \n"
     ]
    }
   ],
   "source": [
    "# Calculate Q1, Q3, and IQR\n",
    "Q1 = df_pop_la['Population_2021'].quantile(0.25)\n",
    "Q3 = df_pop_la['Population_2021'].quantile(0.75)\n",
    "IQR = Q3 - Q1\n",
    "\n",
    "# Tukey's fences\n",
    "lower_bound = Q1 - 1.5 * IQR\n",
    "upper_bound = Q3 + 1.5 * IQR\n",
    "\n",
    "# Detect outliers\n",
    "outliers = df_pop_la[\n",
    "    (df_pop_la['Population_2021'] < lower_bound) |\n",
    "    (df_pop_la['Population_2021'] > upper_bound)\n",
    "]\n",
    "\n",
    "print(\"Lower bound:\", lower_bound)\n",
    "print(\"Upper bound:\", upper_bound)\n",
    "print(\"How many outliers?\", outliers.shape[0])\n",
    "print(\"Outliers:\\n\", outliers)"
   ]
  },
  {
   "cell_type": "markdown",
   "id": "aa67a040",
   "metadata": {},
   "source": [
    "There are 33 outliers in this dataset. Think about the three types of outliers that we discussed. Which type do these 33 outliers beloong to?\n",
    "\n",
    "-   **Error Outlier**\n",
    "-   **Irregular Pattern Outlier**\n",
    "-   **Influential Outlier**\n",
    "\n",
    "### Boxplot\n",
    "\n",
    "To create a boxplot of this variable:"
   ]
  },
  {
   "cell_type": "code",
   "execution_count": 12,
   "id": "186c3941",
   "metadata": {},
   "outputs": [
    {
     "data": {
      "image/png": "[encoded data removed]",
      "text/plain": [
       "<Figure size 672x480 with 1 Axes>"
      ]
     },
     "metadata": {},
     "output_type": "display_data"
    }
   ],
   "source": [
    "import matplotlib.pyplot as plt\n",
    "\n",
    "# Create boxplot\n",
    "df_pop_la['Population_2021'].plot(kind='box', title='LA Population 2021 Boxplot')\n",
    "\n",
    "plt.ylabel('Population')\n",
    "plt.grid(axis='y', linestyle='--', alpha=0.6)\n",
    "plt.show()"
   ]
  },
  {
   "cell_type": "markdown",
   "id": "e70d599e",
   "metadata": {},
   "source": [
    "What do you observe from this boxplot? There are lots of values above the\n",
    "\n",
    "## Exploring Percentage_change\n",
    "\n",
    "*Now*, we turn to explore the variable *Percentage_change*, which represents the relative change from the 2011 census to 2021 census.\n",
    "\n",
    "Try completing the code below on your own. Practice makes perfect!\n",
    "\n",
    "### Which LAs experienced the largest population percentage change? To what extent?\n",
    "\n",
    "::: qna\n",
    "#### Question\n",
    "\n",
    "``` python\n",
    "print(\"{} have the largest population percentage change of {}%\".format(\n",
    "    \", \".join(df_pop_la.loc[??['??'] == ??['??'].max(skipna=True), 'Area_name']), \n",
    "    df_pop_la['Population_2021'].??(skipna=True))\n",
    "    )\n",
    "```\n",
    "\n",
    "#### Answer"
   ]
  },
  {
   "cell_type": "code",
   "execution_count": 13,
   "id": "1f7a6bec",
   "metadata": {},
   "outputs": [
    {
     "name": "stdout",
     "output_type": "stream",
     "text": [
      "Tower Hamlets have the largest population percentage change of 22.1%\n"
     ]
    }
   ],
   "source": [
    "print(\"{} have the largest population percentage change of {}%\".format(\n",
    "    \", \".join(df_pop_la.loc[df_pop_la['Percentage_change'] == df_pop_la['Percentage_change'].max(skipna=True), 'Area_name']), \n",
    "    df_pop_la['Percentage_change'].max(skipna=True))\n",
    "    )"
   ]
  },
  {
   "cell_type": "markdown",
   "id": "bc83ad0f",
   "metadata": {},
   "source": [
    ":::\n",
    "\n",
    "### Which LAs experienced the smallest population percentage change? To what extent?\n",
    "\n",
    "::: qna\n",
    "#### Question\n",
    "\n",
    "``` python\n",
    "print(\"{} have the smallest population percentage change of {}%\".format(\n",
    "    \", \".??(df_pop_la.loc[df_pop_la[??] == ??['Percentage_change'].??(skipna=True), 'Area_name']), \n",
    "    df_pop_la['Percentage_change'].??(skipna=True))\n",
    "    )\n",
    "```\n",
    "\n",
    "#### Answer"
   ]
  },
  {
   "cell_type": "code",
   "execution_count": 14,
   "id": "b84a3e25",
   "metadata": {},
   "outputs": [
    {
     "name": "stdout",
     "output_type": "stream",
     "text": [
      "Kensington and Chelsea have the smallest population percentage change of -9.6%\n"
     ]
    }
   ],
   "source": [
    "print(\"{} have the smallest population percentage change of {}%\".format(\n",
    "    \", \".join(df_pop_la.loc[df_pop_la['Percentage_change'] == df_pop_la['Percentage_change'].min(skipna=True), 'Area_name']), \n",
    "    df_pop_la['Percentage_change'].min(skipna=True))\n",
    "    )"
   ]
  },
  {
   "cell_type": "markdown",
   "id": "4f94521f",
   "metadata": {},
   "source": [
    ":::\n",
    "\n",
    "### Making a boxplot of Percentage_change\n",
    "\n",
    "::: qna\n",
    "#### Question\n",
    "\n",
    "``` python\n",
    "import matplotlib.pyplot as plt\n",
    "\n",
    "# Create boxplot\n",
    "df_pop_la[??].plot(kind=??, title='LA Population Percentage Change Boxplot')\n",
    "\n",
    "plt.??('Percentage change')\n",
    "plt.grid(axis='y', linestyle='--', alpha=0.6)\n",
    "plt.show()\n",
    "```\n",
    "\n",
    "#### Answer"
   ]
  },
  {
   "cell_type": "code",
   "execution_count": 15,
   "id": "ae2e5a1d",
   "metadata": {},
   "outputs": [
    {
     "data": {
      "image/png": "[encoded data removed]",
      "text/plain": [
       "<Figure size 672x480 with 1 Axes>"
      ]
     },
     "metadata": {},
     "output_type": "display_data"
    }
   ],
   "source": [
    "import matplotlib.pyplot as plt\n",
    "\n",
    "# Create boxplot\n",
    "df_pop_la['Percentage_change'].plot(kind='box', title='LA Population Percentage Change Boxplot')\n",
    "\n",
    "plt.ylabel('Percentage change')\n",
    "plt.grid(axis='y', linestyle='--', alpha=0.6)\n",
    "plt.show()"
   ]
  },
  {
   "cell_type": "markdown",
   "id": "6dfa3d95",
   "metadata": {},
   "source": [
    ":::\n",
    "\n",
    "## You're Done!\n",
    "\n",
    "Congratulations on completing the first QM practical session! If you are still working on it, take you time.\n",
    "\n",
    "Don’t worry about understanding every detail of the Python code — what matters most is knowing which functions to use for a specific task, like checking minimum and maximum values or generating boxplots, and knowing how to debug when it goes wrong. Remember, practice makes perfect."
   ]
  }
 ],
 "metadata": {
  "kernelspec": {
   "display_name": "Python 3 (ipykernel)",
   "language": "python",
   "name": "python3",
   "path": "C:\\Users\\Adam\\AppData\\Local\\Programs\\Python\\Python313\\share\\jupyter\\kernels\\python3"
  },
  "language_info": {
   "codemirror_mode": {
    "name": "ipython",
    "version": 3
   },
   "file_extension": ".py",
   "mimetype": "text/x-python",
   "name": "python",
   "nbconvert_exporter": "python",
   "pygments_lexer": "ipython3",
   "version": "3.13.7"
  }
 },
 "nbformat": 4,
 "nbformat_minor": 5
}
